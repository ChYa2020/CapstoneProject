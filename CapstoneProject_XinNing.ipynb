{
 "cells": [
  {
   "cell_type": "code",
   "execution_count": 223,
   "id": "c5214a37-22a4-4270-92b9-87b23637574d",
   "metadata": {},
   "outputs": [
    {
     "data": {
      "text/plain": [
       "131410"
      ]
     },
     "execution_count": 223,
     "metadata": {},
     "output_type": "execute_result"
    }
   ],
   "source": [
    "import requests\n",
    "import os\n",
    "import matplotlib.pyplot as plt\n",
    "import numpy as np\n",
    "import pandas as pd\n",
    "import seaborn as sns\n",
    "import sklearn\n",
    "import statsmodels.api as sm\n",
    "import statsmodels.formula.api as smf\n",
    "from sklearn.model_selection import train_test_split\n",
    "from sklearn.linear_model import LinearRegression\n",
    "# I chose data from “https://catalog.data.gov/dataset/current-season-spring-trout-stocking” about the distribution of three Trout species in different areas.\n",
    "# The data contains nine variables, four of them are location records and two are time records.\n",
    "# In the following sections I will focus on the remaining three variables, which are the species name of the trout, their number, and the individual size. \n",
    "url= 'https://data.ny.gov/api/views/d9y2-n436/rows.csv?accessType=DOWNLOAD'\n",
    "r = requests.get(url, allow_redirects=True)\n",
    "open('Current_Season_Spring_Trout_Stocking.csv', 'wb').write(r.content)"
   ]
  },
  {
   "cell_type": "code",
   "execution_count": 224,
   "id": "c3432c0e-ab3c-43c1-9334-412ba1d39c33",
   "metadata": {},
   "outputs": [
    {
     "data": {
      "text/html": [
       "<div>\n",
       "<style scoped>\n",
       "    .dataframe tbody tr th:only-of-type {\n",
       "        vertical-align: middle;\n",
       "    }\n",
       "\n",
       "    .dataframe tbody tr th {\n",
       "        vertical-align: top;\n",
       "    }\n",
       "\n",
       "    .dataframe thead th {\n",
       "        text-align: right;\n",
       "    }\n",
       "</style>\n",
       "<table border=\"1\" class=\"dataframe\">\n",
       "  <thead>\n",
       "    <tr style=\"text-align: right;\">\n",
       "      <th></th>\n",
       "      <th>Year</th>\n",
       "      <th>Region</th>\n",
       "      <th>Country</th>\n",
       "      <th>Town</th>\n",
       "      <th>Waterbody</th>\n",
       "      <th>Date</th>\n",
       "      <th>Number</th>\n",
       "      <th>Species</th>\n",
       "      <th>Size</th>\n",
       "    </tr>\n",
       "  </thead>\n",
       "  <tbody>\n",
       "    <tr>\n",
       "      <th>0</th>\n",
       "      <td>Year</td>\n",
       "      <td>DEC Region</td>\n",
       "      <td>County</td>\n",
       "      <td>Town</td>\n",
       "      <td>Waterbody</td>\n",
       "      <td>Date</td>\n",
       "      <td>Number</td>\n",
       "      <td>Species Name</td>\n",
       "      <td>Size (inches )</td>\n",
       "    </tr>\n",
       "    <tr>\n",
       "      <th>1</th>\n",
       "      <td>2021</td>\n",
       "      <td>4</td>\n",
       "      <td>Albany</td>\n",
       "      <td>Westerlo</td>\n",
       "      <td>Basic Creek</td>\n",
       "      <td>April - first week</td>\n",
       "      <td>28</td>\n",
       "      <td>Brown Trout</td>\n",
       "      <td>12 -15 inches</td>\n",
       "    </tr>\n",
       "    <tr>\n",
       "      <th>2</th>\n",
       "      <td>2021</td>\n",
       "      <td>4</td>\n",
       "      <td>Albany</td>\n",
       "      <td>Westerlo</td>\n",
       "      <td>Basic Creek</td>\n",
       "      <td>April - first week</td>\n",
       "      <td>255</td>\n",
       "      <td>Rainbow Trout</td>\n",
       "      <td>9 - 10 inches</td>\n",
       "    </tr>\n",
       "    <tr>\n",
       "      <th>3</th>\n",
       "      <td>2021</td>\n",
       "      <td>4</td>\n",
       "      <td>Albany</td>\n",
       "      <td>Rensselaerville</td>\n",
       "      <td>Catskill Creek</td>\n",
       "      <td>April - first week</td>\n",
       "      <td>20</td>\n",
       "      <td>Brown Trout</td>\n",
       "      <td>12 -15 inches</td>\n",
       "    </tr>\n",
       "    <tr>\n",
       "      <th>4</th>\n",
       "      <td>2021</td>\n",
       "      <td>4</td>\n",
       "      <td>Albany</td>\n",
       "      <td>Rensselaerville</td>\n",
       "      <td>Catskill Creek</td>\n",
       "      <td>April - first week</td>\n",
       "      <td>182</td>\n",
       "      <td>Brown Trout</td>\n",
       "      <td>9 - 10 inches</td>\n",
       "    </tr>\n",
       "    <tr>\n",
       "      <th>...</th>\n",
       "      <td>...</td>\n",
       "      <td>...</td>\n",
       "      <td>...</td>\n",
       "      <td>...</td>\n",
       "      <td>...</td>\n",
       "      <td>...</td>\n",
       "      <td>...</td>\n",
       "      <td>...</td>\n",
       "      <td>...</td>\n",
       "    </tr>\n",
       "    <tr>\n",
       "      <th>1500</th>\n",
       "      <td>2021</td>\n",
       "      <td>9</td>\n",
       "      <td>Wyoming</td>\n",
       "      <td>Perry</td>\n",
       "      <td>Perry Park Pond</td>\n",
       "      <td>Mid April</td>\n",
       "      <td>87</td>\n",
       "      <td>Rainbow Trout</td>\n",
       "      <td>8 inches</td>\n",
       "    </tr>\n",
       "    <tr>\n",
       "      <th>1501</th>\n",
       "      <td>2021</td>\n",
       "      <td>9</td>\n",
       "      <td>Wyoming</td>\n",
       "      <td>Orangeville</td>\n",
       "      <td>Tonawanda Creek</td>\n",
       "      <td>March - fourth week</td>\n",
       "      <td>133</td>\n",
       "      <td>Brown Trout</td>\n",
       "      <td>12 -15 inches</td>\n",
       "    </tr>\n",
       "    <tr>\n",
       "      <th>1502</th>\n",
       "      <td>2021</td>\n",
       "      <td>9</td>\n",
       "      <td>Wyoming</td>\n",
       "      <td>Orangeville</td>\n",
       "      <td>Tonawanda Creek</td>\n",
       "      <td>March - fourth week</td>\n",
       "      <td>1200</td>\n",
       "      <td>Rainbow Trout</td>\n",
       "      <td>9 - 10 inches</td>\n",
       "    </tr>\n",
       "    <tr>\n",
       "      <th>1503</th>\n",
       "      <td>2021</td>\n",
       "      <td>8</td>\n",
       "      <td>Yates</td>\n",
       "      <td>Milo, Torrey</td>\n",
       "      <td>Keuka Lake Outlet</td>\n",
       "      <td>April - second week</td>\n",
       "      <td>150</td>\n",
       "      <td>Brown Trout</td>\n",
       "      <td>12 -15 inches</td>\n",
       "    </tr>\n",
       "    <tr>\n",
       "      <th>1504</th>\n",
       "      <td>2021</td>\n",
       "      <td>8</td>\n",
       "      <td>Yates</td>\n",
       "      <td>Milo, Torrey</td>\n",
       "      <td>Keuka Lake Outlet</td>\n",
       "      <td>April - second week</td>\n",
       "      <td>1350</td>\n",
       "      <td>Brown Trout</td>\n",
       "      <td>9 - 10 inches</td>\n",
       "    </tr>\n",
       "  </tbody>\n",
       "</table>\n",
       "<p>1505 rows × 9 columns</p>\n",
       "</div>"
      ],
      "text/plain": [
       "      Year      Region  Country             Town          Waterbody  \\\n",
       "0     Year  DEC Region   County             Town          Waterbody   \n",
       "1     2021           4   Albany         Westerlo        Basic Creek   \n",
       "2     2021           4   Albany         Westerlo        Basic Creek   \n",
       "3     2021           4   Albany  Rensselaerville     Catskill Creek   \n",
       "4     2021           4   Albany  Rensselaerville     Catskill Creek   \n",
       "...    ...         ...      ...              ...                ...   \n",
       "1500  2021           9  Wyoming            Perry    Perry Park Pond   \n",
       "1501  2021           9  Wyoming      Orangeville    Tonawanda Creek   \n",
       "1502  2021           9  Wyoming      Orangeville    Tonawanda Creek   \n",
       "1503  2021           8    Yates     Milo, Torrey  Keuka Lake Outlet   \n",
       "1504  2021           8    Yates     Milo, Torrey  Keuka Lake Outlet   \n",
       "\n",
       "                     Date  Number        Species            Size  \n",
       "0                    Date  Number   Species Name  Size (inches )  \n",
       "1      April - first week      28    Brown Trout   12 -15 inches  \n",
       "2      April - first week     255  Rainbow Trout   9 - 10 inches  \n",
       "3      April - first week      20    Brown Trout   12 -15 inches  \n",
       "4      April - first week     182    Brown Trout   9 - 10 inches  \n",
       "...                   ...     ...            ...             ...  \n",
       "1500            Mid April      87  Rainbow Trout        8 inches  \n",
       "1501  March - fourth week     133    Brown Trout   12 -15 inches  \n",
       "1502  March - fourth week    1200  Rainbow Trout   9 - 10 inches  \n",
       "1503  April - second week     150    Brown Trout   12 -15 inches  \n",
       "1504  April - second week    1350    Brown Trout   9 - 10 inches  \n",
       "\n",
       "[1505 rows x 9 columns]"
      ]
     },
     "execution_count": 224,
     "metadata": {},
     "output_type": "execute_result"
    }
   ],
   "source": [
    "df = pd.read_csv(r'Current_Season_Spring_Trout_Stocking.csv',names=['Year','Region','Country','Town','Waterbody','Date','Number','Species','Size']) # rename some columns \n",
    "df"
   ]
  },
  {
   "cell_type": "code",
   "execution_count": 225,
   "id": "227bcd99-c451-4ae4-98b4-24ca96afb2ae",
   "metadata": {},
   "outputs": [
    {
     "data": {
      "text/html": [
       "<div>\n",
       "<style scoped>\n",
       "    .dataframe tbody tr th:only-of-type {\n",
       "        vertical-align: middle;\n",
       "    }\n",
       "\n",
       "    .dataframe tbody tr th {\n",
       "        vertical-align: top;\n",
       "    }\n",
       "\n",
       "    .dataframe thead th {\n",
       "        text-align: right;\n",
       "    }\n",
       "</style>\n",
       "<table border=\"1\" class=\"dataframe\">\n",
       "  <thead>\n",
       "    <tr style=\"text-align: right;\">\n",
       "      <th></th>\n",
       "      <th>Number</th>\n",
       "      <th>Species</th>\n",
       "      <th>Size</th>\n",
       "    </tr>\n",
       "  </thead>\n",
       "  <tbody>\n",
       "    <tr>\n",
       "      <th>1</th>\n",
       "      <td>28</td>\n",
       "      <td>Brown Trout</td>\n",
       "      <td>12 -15 inches</td>\n",
       "    </tr>\n",
       "    <tr>\n",
       "      <th>2</th>\n",
       "      <td>255</td>\n",
       "      <td>Rainbow Trout</td>\n",
       "      <td>9 - 10 inches</td>\n",
       "    </tr>\n",
       "    <tr>\n",
       "      <th>3</th>\n",
       "      <td>20</td>\n",
       "      <td>Brown Trout</td>\n",
       "      <td>12 -15 inches</td>\n",
       "    </tr>\n",
       "    <tr>\n",
       "      <th>4</th>\n",
       "      <td>182</td>\n",
       "      <td>Brown Trout</td>\n",
       "      <td>9 - 10 inches</td>\n",
       "    </tr>\n",
       "    <tr>\n",
       "      <th>5</th>\n",
       "      <td>20</td>\n",
       "      <td>Brown Trout</td>\n",
       "      <td>12 -15 inches</td>\n",
       "    </tr>\n",
       "    <tr>\n",
       "      <th>...</th>\n",
       "      <td>...</td>\n",
       "      <td>...</td>\n",
       "      <td>...</td>\n",
       "    </tr>\n",
       "    <tr>\n",
       "      <th>1500</th>\n",
       "      <td>87</td>\n",
       "      <td>Rainbow Trout</td>\n",
       "      <td>8 inches</td>\n",
       "    </tr>\n",
       "    <tr>\n",
       "      <th>1501</th>\n",
       "      <td>133</td>\n",
       "      <td>Brown Trout</td>\n",
       "      <td>12 -15 inches</td>\n",
       "    </tr>\n",
       "    <tr>\n",
       "      <th>1502</th>\n",
       "      <td>1200</td>\n",
       "      <td>Rainbow Trout</td>\n",
       "      <td>9 - 10 inches</td>\n",
       "    </tr>\n",
       "    <tr>\n",
       "      <th>1503</th>\n",
       "      <td>150</td>\n",
       "      <td>Brown Trout</td>\n",
       "      <td>12 -15 inches</td>\n",
       "    </tr>\n",
       "    <tr>\n",
       "      <th>1504</th>\n",
       "      <td>1350</td>\n",
       "      <td>Brown Trout</td>\n",
       "      <td>9 - 10 inches</td>\n",
       "    </tr>\n",
       "  </tbody>\n",
       "</table>\n",
       "<p>1504 rows × 3 columns</p>\n",
       "</div>"
      ],
      "text/plain": [
       "     Number        Species           Size\n",
       "1        28    Brown Trout  12 -15 inches\n",
       "2       255  Rainbow Trout  9 - 10 inches\n",
       "3        20    Brown Trout  12 -15 inches\n",
       "4       182    Brown Trout  9 - 10 inches\n",
       "5        20    Brown Trout  12 -15 inches\n",
       "...     ...            ...            ...\n",
       "1500     87  Rainbow Trout       8 inches\n",
       "1501    133    Brown Trout  12 -15 inches\n",
       "1502   1200  Rainbow Trout  9 - 10 inches\n",
       "1503    150    Brown Trout  12 -15 inches\n",
       "1504   1350    Brown Trout  9 - 10 inches\n",
       "\n",
       "[1504 rows x 3 columns]"
      ]
     },
     "execution_count": 225,
     "metadata": {},
     "output_type": "execute_result"
    }
   ],
   "source": [
    "df1=df[['Number','Species','Size']].drop(index=0).dropna() # clean missing values \n",
    "df1 # this dataset contains only the three main varaibles, they can reflect the specific trout number and size in a location and date."
   ]
  },
  {
   "cell_type": "code",
   "execution_count": 226,
   "id": "179aefb6-8259-4689-aeba-743643241805",
   "metadata": {},
   "outputs": [
    {
     "data": {
      "text/html": [
       "<div>\n",
       "<style scoped>\n",
       "    .dataframe tbody tr th:only-of-type {\n",
       "        vertical-align: middle;\n",
       "    }\n",
       "\n",
       "    .dataframe tbody tr th {\n",
       "        vertical-align: top;\n",
       "    }\n",
       "\n",
       "    .dataframe thead th {\n",
       "        text-align: right;\n",
       "    }\n",
       "</style>\n",
       "<table border=\"1\" class=\"dataframe\">\n",
       "  <thead>\n",
       "    <tr style=\"text-align: right;\">\n",
       "      <th></th>\n",
       "      <th>Number</th>\n",
       "      <th>Species</th>\n",
       "      <th>Size</th>\n",
       "    </tr>\n",
       "  </thead>\n",
       "  <tbody>\n",
       "    <tr>\n",
       "      <th>count</th>\n",
       "      <td>1504</td>\n",
       "      <td>1504</td>\n",
       "      <td>1504</td>\n",
       "    </tr>\n",
       "    <tr>\n",
       "      <th>unique</th>\n",
       "      <td>638</td>\n",
       "      <td>3</td>\n",
       "      <td>4</td>\n",
       "    </tr>\n",
       "    <tr>\n",
       "      <th>top</th>\n",
       "      <td>100</td>\n",
       "      <td>Brown Trout</td>\n",
       "      <td>9 - 10 inches</td>\n",
       "    </tr>\n",
       "    <tr>\n",
       "      <th>freq</th>\n",
       "      <td>21</td>\n",
       "      <td>1101</td>\n",
       "      <td>584</td>\n",
       "    </tr>\n",
       "  </tbody>\n",
       "</table>\n",
       "</div>"
      ],
      "text/plain": [
       "       Number      Species           Size\n",
       "count    1504         1504           1504\n",
       "unique    638            3              4\n",
       "top       100  Brown Trout  9 - 10 inches\n",
       "freq       21         1101            584"
      ]
     },
     "execution_count": 226,
     "metadata": {},
     "output_type": "execute_result"
    }
   ],
   "source": [
    "df1.describe() # \"Brown Trout\" is the most widely distributed specie, 1101 of 1504. "
   ]
  },
  {
   "cell_type": "code",
   "execution_count": 227,
   "id": "ff83b474-44d1-4f83-92d7-33d05ca157ba",
   "metadata": {},
   "outputs": [
    {
     "data": {
      "text/plain": [
       "array(['Brown Trout', 'Rainbow Trout', 'Brook Trout'], dtype=object)"
      ]
     },
     "execution_count": 227,
     "metadata": {},
     "output_type": "execute_result"
    }
   ],
   "source": [
    "# From the dataset, the question is: What is the proportion of the total number of these three trout species?\n",
    "df1.Species.unique() # subset the dataset according to the species names."
   ]
  },
  {
   "cell_type": "code",
   "execution_count": 228,
   "id": "c40aeff5-39d3-4944-8d8c-84822b02d3b6",
   "metadata": {},
   "outputs": [
    {
     "data": {
      "image/png": "[encoded data removed]",
      "text/plain": [
       "<Figure size 432x288 with 1 Axes>"
      ]
     },
     "metadata": {},
     "output_type": "display_data"
    }
   ],
   "source": [
    "# subsets of species, and their total number.\n",
    "Brown=df1.loc[df1['Species']=='Brown Trout']\n",
    "Brook=df1.loc[df1['Species']=='Brook Trout']\n",
    "Rainbow=df1.loc[df1['Species']=='Rainbow Trout']\n",
    "num1=Brown['Number'].astype('float').sum()\n",
    "num2=Rainbow['Number'].astype('float').sum()\n",
    "num3=Brook['Number'].astype('float').sum()\n",
    "plt.pie([num1,num2,num3],labels=['Brown','Rainbow','Brook'],autopct='%1.2f%%')\n",
    "plt.show()\n",
    "# from the output, the total number of Brown Trout occupies 71.96% of the three species, Rainbow Trout is 23.50%, and Brook Trout total number is only 4.54%."
   ]
  },
  {
   "cell_type": "code",
   "execution_count": 229,
   "id": "463cad20-8c56-44e5-9a57-b2b82269ec9b",
   "metadata": {},
   "outputs": [
    {
     "name": "stdout",
     "output_type": "stream",
     "text": [
      "0.7320478723404256 0.20345744680851063 0.06449468085106383\n"
     ]
    }
   ],
   "source": [
    "#Trends: 1. What is the proportion difference between the observations amount and their total number?\n",
    "print(len(Brown)/len(df1),len(Rainbow)/len(df1),len(Brook)/len(df1))\n",
    "# As the output shows, the differences are within 0.03."
   ]
  },
  {
   "cell_type": "code",
   "execution_count": 230,
   "id": "13c9e139-7bc1-4a78-9138-477d5b8da71b",
   "metadata": {},
   "outputs": [
    {
     "name": "stdout",
     "output_type": "stream",
     "text": [
      "1252.8339963669391 1471.943954248366 896.8288659793814\n"
     ]
    }
   ],
   "source": [
    "#Trends: 2. The average number of trout in each observation is:\n",
    "print(num1/len(Brown),num2/len(Rainbow),num3/len(Brook))\n",
    "# In each observation, the average number of Brown trout is lower than Rainbow trout, although the observations and total amount of Brown trout is the most;\n",
    "# the survival of Brook trout is not good, both the number of observations and the number of single observations are significantly lower than the other two species."
   ]
  },
  {
   "cell_type": "code",
   "execution_count": 231,
   "id": "1b2713aa-a98c-4e64-977a-8bdb2f5f8509",
   "metadata": {},
   "outputs": [
    {
     "data": {
      "text/plain": [
       "array(['12 -15 inches', '9 - 10 inches', '8 inches', '12 -14 inches'],\n",
       "      dtype=object)"
      ]
     },
     "execution_count": 231,
     "metadata": {},
     "output_type": "execute_result"
    }
   ],
   "source": [
    "# Predictive analytics question: \n",
    "# Can we predict the species of trout by their distribution number and individual size?\n",
    "# Hypothesis: the total number of Brown trout is larger than other two species, so their number in each observation might also precedes others;\n",
    "# their size might be smaller than trout that is not so dense in a location, because single trout can get more energy in a less competitive environment. \n",
    "df1.Size.unique()"
   ]
  },
  {
   "cell_type": "code",
   "execution_count": 232,
   "id": "0beb6790-ea2a-4264-b133-5f201bc9218d",
   "metadata": {},
   "outputs": [
    {
     "data": {
      "text/html": [
       "<div>\n",
       "<style scoped>\n",
       "    .dataframe tbody tr th:only-of-type {\n",
       "        vertical-align: middle;\n",
       "    }\n",
       "\n",
       "    .dataframe tbody tr th {\n",
       "        vertical-align: top;\n",
       "    }\n",
       "\n",
       "    .dataframe thead th {\n",
       "        text-align: right;\n",
       "    }\n",
       "</style>\n",
       "<table border=\"1\" class=\"dataframe\">\n",
       "  <thead>\n",
       "    <tr style=\"text-align: right;\">\n",
       "      <th></th>\n",
       "      <th>Number</th>\n",
       "      <th>Species</th>\n",
       "      <th>Size</th>\n",
       "    </tr>\n",
       "  </thead>\n",
       "  <tbody>\n",
       "    <tr>\n",
       "      <th>1</th>\n",
       "      <td>28.0</td>\n",
       "      <td>3</td>\n",
       "      <td>15</td>\n",
       "    </tr>\n",
       "    <tr>\n",
       "      <th>3</th>\n",
       "      <td>20.0</td>\n",
       "      <td>3</td>\n",
       "      <td>15</td>\n",
       "    </tr>\n",
       "    <tr>\n",
       "      <th>5</th>\n",
       "      <td>20.0</td>\n",
       "      <td>3</td>\n",
       "      <td>15</td>\n",
       "    </tr>\n",
       "    <tr>\n",
       "      <th>7</th>\n",
       "      <td>20.0</td>\n",
       "      <td>3</td>\n",
       "      <td>15</td>\n",
       "    </tr>\n",
       "    <tr>\n",
       "      <th>9</th>\n",
       "      <td>20.0</td>\n",
       "      <td>3</td>\n",
       "      <td>15</td>\n",
       "    </tr>\n",
       "    <tr>\n",
       "      <th>...</th>\n",
       "      <td>...</td>\n",
       "      <td>...</td>\n",
       "      <td>...</td>\n",
       "    </tr>\n",
       "    <tr>\n",
       "      <th>1470</th>\n",
       "      <td>3906.0</td>\n",
       "      <td>1</td>\n",
       "      <td>8</td>\n",
       "    </tr>\n",
       "    <tr>\n",
       "      <th>1471</th>\n",
       "      <td>3654.0</td>\n",
       "      <td>1</td>\n",
       "      <td>8</td>\n",
       "    </tr>\n",
       "    <tr>\n",
       "      <th>1494</th>\n",
       "      <td>261.0</td>\n",
       "      <td>1</td>\n",
       "      <td>8</td>\n",
       "    </tr>\n",
       "    <tr>\n",
       "      <th>1495</th>\n",
       "      <td>261.0</td>\n",
       "      <td>1</td>\n",
       "      <td>8</td>\n",
       "    </tr>\n",
       "    <tr>\n",
       "      <th>1500</th>\n",
       "      <td>87.0</td>\n",
       "      <td>1</td>\n",
       "      <td>8</td>\n",
       "    </tr>\n",
       "  </tbody>\n",
       "</table>\n",
       "<p>1504 rows × 3 columns</p>\n",
       "</div>"
      ],
      "text/plain": [
       "      Number  Species  Size\n",
       "1       28.0        3    15\n",
       "3       20.0        3    15\n",
       "5       20.0        3    15\n",
       "7       20.0        3    15\n",
       "9       20.0        3    15\n",
       "...      ...      ...   ...\n",
       "1470  3906.0        1     8\n",
       "1471  3654.0        1     8\n",
       "1494   261.0        1     8\n",
       "1495   261.0        1     8\n",
       "1500    87.0        1     8\n",
       "\n",
       "[1504 rows x 3 columns]"
      ]
     },
     "execution_count": 232,
     "metadata": {},
     "output_type": "execute_result"
    }
   ],
   "source": [
    "# From the output above, there are four size range in object type, so we will need to convert them into integers. \n",
    "# Here 12-15 and 12-14 ranges can be ambiguous, I will assgin 15 and 14 to distinguish them. Also 9-10 range will be 10.\n",
    "# Also, we need to make sure the \"species\" and \"number\" variables are integers.\n",
    "df1['Number']=df1.Number.astype('float')\n",
    "first=df1.loc[df1['Size']=='12 -15 inches'].copy()\n",
    "first['Size']=15\n",
    "second=df1.loc[df1['Size']=='12 -14 inches'].copy()\n",
    "second['Size']=14\n",
    "third=df1.loc[df1['Size']=='9 - 10 inches'].copy()\n",
    "third['Size']=10\n",
    "fourth=df1.loc[df1['Size']=='8 inches'].copy()\n",
    "fourth['Size']=8\n",
    "# get a new dataset with size in integer format. \n",
    "df2=pd.concat([first,second,third,fourth])\n",
    "# Assign 1,2,3 to the three species as the number from low to high. Brown trout number is the largest so use 3 to represent. \n",
    "Brown=df1.loc[df1['Species']=='Brown Trout'].copy()\n",
    "Brown['Species']=3\n",
    "Rainbow=df1.loc[df1['Species']=='Rainbow Trout'].copy()\n",
    "Rainbow['Species']=2\n",
    "Brook=df1.loc[df1['Species']=='Brook Trout'].copy()\n",
    "Brook['Species']=1\n",
    "# get a new dataset with species in integer format.\n",
    "df3=pd.concat([Brown,Rainbow,Brook])\n",
    "# df2 is the final version with all integers.\n",
    "df2['Species']=df3['Species'].values\n",
    "df2"
   ]
  },
  {
   "cell_type": "code",
   "execution_count": 233,
   "id": "724d53b3-907a-45c9-b43e-d31c4442db2d",
   "metadata": {},
   "outputs": [
    {
     "data": {
      "text/html": [
       "<div>\n",
       "<style scoped>\n",
       "    .dataframe tbody tr th:only-of-type {\n",
       "        vertical-align: middle;\n",
       "    }\n",
       "\n",
       "    .dataframe tbody tr th {\n",
       "        vertical-align: top;\n",
       "    }\n",
       "\n",
       "    .dataframe thead th {\n",
       "        text-align: right;\n",
       "    }\n",
       "</style>\n",
       "<table border=\"1\" class=\"dataframe\">\n",
       "  <thead>\n",
       "    <tr style=\"text-align: right;\">\n",
       "      <th></th>\n",
       "      <th>Number</th>\n",
       "      <th>Species</th>\n",
       "      <th>Size</th>\n",
       "    </tr>\n",
       "  </thead>\n",
       "  <tbody>\n",
       "    <tr>\n",
       "      <th>Number</th>\n",
       "      <td>1.000000</td>\n",
       "      <td>-0.187765</td>\n",
       "      <td>-0.266550</td>\n",
       "    </tr>\n",
       "    <tr>\n",
       "      <th>Species</th>\n",
       "      <td>-0.187765</td>\n",
       "      <td>1.000000</td>\n",
       "      <td>0.627194</td>\n",
       "    </tr>\n",
       "    <tr>\n",
       "      <th>Size</th>\n",
       "      <td>-0.266550</td>\n",
       "      <td>0.627194</td>\n",
       "      <td>1.000000</td>\n",
       "    </tr>\n",
       "  </tbody>\n",
       "</table>\n",
       "</div>"
      ],
      "text/plain": [
       "           Number   Species      Size\n",
       "Number   1.000000 -0.187765 -0.266550\n",
       "Species -0.187765  1.000000  0.627194\n",
       "Size    -0.266550  0.627194  1.000000"
      ]
     },
     "execution_count": 233,
     "metadata": {},
     "output_type": "execute_result"
    }
   ],
   "source": [
    "df2.corr()\n",
    "# the larger the size is, the trout is more likely to be Brown trout. \n",
    "# the number of trout reflects that the Brook trout distuibution is more dense than Brown trout."
   ]
  },
  {
   "cell_type": "code",
   "execution_count": 234,
   "id": "1eb5a6b3-eb09-4a58-8826-a305899cf796",
   "metadata": {},
   "outputs": [
    {
     "data": {
      "image/png": "[encoded data removed]",
      "text/plain": [
       "<Figure size 806.4x504 with 2 Axes>"
      ]
     },
     "metadata": {
      "needs_background": "light"
     },
     "output_type": "display_data"
    }
   ],
   "source": [
    "# The influence of number and size on species\n",
    "sns.pairplot(df2, x_vars=['Number','Size'], y_vars='Species', height=7, aspect=0.8,kind = 'reg')\n",
    "plt.show()"
   ]
  },
  {
   "cell_type": "code",
   "execution_count": 235,
   "id": "cf200aa4-5e49-4aa1-85d9-ae1ee6f9b89c",
   "metadata": {},
   "outputs": [
    {
     "name": "stdout",
     "output_type": "stream",
     "text": [
      "1.2100984669928136 [-5.51591635e-06  1.27587752e-01]\n"
     ]
    }
   ],
   "source": [
    "# build train model and test model, find the intercept and coefficients.\n",
    "X_train,X_test,Y_train,Y_test = train_test_split(df2[['Number','Size']],df2.Species,test_size=.20)\n",
    "\n",
    "model = LinearRegression()\n",
    "\n",
    "model.fit(X_train,Y_train)\n",
    "\n",
    "a = model.intercept_  \n",
    "\n",
    "b = model.coef_ \n",
    "\n",
    "print(a,b)\n",
    "# as the output shows, y= 1.1687 + (-2.77e-06)*Number + (1.30e-01)*Size. The number of trout in each observation increases 1, \n",
    "# the \"Species\" decreases -2.77e-06; \"Species\" will increase 1.30e-0.1 when the individual size increases 1."
   ]
  },
  {
   "cell_type": "code",
   "execution_count": 236,
   "id": "2b7eb302-bacb-4326-ba26-134d6c6a5c84",
   "metadata": {},
   "outputs": [
    {
     "name": "stdout",
     "output_type": "stream",
     "text": [
      "0.38218428858570486\n"
     ]
    },
    {
     "data": {
      "image/png": "[encoded data removed]",
      "text/plain": [
       "<Figure size 432x288 with 1 Axes>"
      ]
     },
     "metadata": {
      "needs_background": "light"
     },
     "output_type": "display_data"
    }
   ],
   "source": [
    "score = model.score(X_test, Y_test)\n",
    "print(score)   # the larger the value is, the model is more accurate.\n",
    "Y_pred = model.predict(X_test)\n",
    "# comparison between predict values and source values.\n",
    "plt.figure()\n",
    "plt.plot(range(len(Y_pred)),Y_pred,'b',label=\"predict\")\n",
    "plt.plot(range(len(Y_pred)),Y_test,'r',label=\"test\")\n",
    "plt.legend(loc=\"upper right\")\n",
    "plt.show()"
   ]
  },
  {
   "cell_type": "code",
   "execution_count": 237,
   "id": "136177a4-8701-4cb8-a051-786f2ca02c53",
   "metadata": {},
   "outputs": [],
   "source": [
    "#Conclusion:From the output, in each observation, the influence of trout number is too small to be considered. As for individual size,\n",
    "# the most widely distributed trout also has largest average size. The hypothesis was not supported by the outputs. One possible reason \n",
    "# is that if a trout has a high number, they obtain most of the energy in this area, so their size can also be large. \n",
    "# The Positive correlation of size and observations is a suprising trend, because I thought the individual size might not be very large\n",
    "# if their groups share one environmet, but actually the high number of observations can prove that the environment enables the trout to live."
   ]
  },
  {
   "cell_type": "code",
   "execution_count": 238,
   "id": "87176069-b206-4ca4-a185-798dc83dd1da",
   "metadata": {},
   "outputs": [
    {
     "data": {
      "text/plain": [
       "0"
      ]
     },
     "execution_count": 238,
     "metadata": {},
     "output_type": "execute_result"
    }
   ],
   "source": [
    "os.system('jupyter nbconvert --to html CapstoneProject_XinNing.ipynb')"
   ]
  },
  {
   "cell_type": "code",
   "execution_count": null,
   "id": "f3d17213-8583-41ed-a654-06d7444449ad",
   "metadata": {},
   "outputs": [],
   "source": []
  }
 ],
 "metadata": {
  "kernelspec": {
   "display_name": "Python 3",
   "language": "python",
   "name": "python3"
  },
  "language_info": {
   "codemirror_mode": {
    "name": "ipython",
    "version": 3
   },
   "file_extension": ".py",
   "mimetype": "text/x-python",
   "name": "python",
   "nbconvert_exporter": "python",
   "pygments_lexer": "ipython3",
   "version": "3.9.2"
  }
 },
 "nbformat": 4,
 "nbformat_minor": 5
}
